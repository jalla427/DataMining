{
 "cells": [
  {
   "cell_type": "code",
   "execution_count": 36,
   "metadata": {},
   "outputs": [],
   "source": [
    "import re\n",
    "from datetime import datetime\n",
    "import pandas as pd\n",
    "import matplotlib.pyplot as plt\n",
    "import numpy as np"
   ]
  },
  {
   "cell_type": "code",
   "execution_count": 37,
   "metadata": {},
   "outputs": [],
   "source": [
    "data_list = []"
   ]
  },
  {
   "cell_type": "code",
   "execution_count": 38,
   "metadata": {},
   "outputs": [
    {
     "name": "stdout",
     "output_type": "stream",
     "text": [
      "2649\n"
     ]
    }
   ],
   "source": [
    "file = open(\"E:\\CIS 345 (Data Mining)\\Assignments\\Log Data Exploration\\loginrep.txt\", \"r\")\n",
    "for line in file:\n",
    "    if \"Invalid user\" in line:\n",
    "        bits = re.split('Invalid user ',line)\n",
    "        dateline = bits[0].split()\n",
    "        date_obj = datetime.strptime(dateline[0] + ' ' + dateline[1] + ' 2020 ' + dateline[2],'%b %d %Y %H:%M:%S')\n",
    "        (user,end) = re.split(' from ',bits[1])\n",
    "        net = re.split(' port',end)\n",
    "        row = [user,net[0],date_obj]\n",
    "        data_list.append(row)\n",
    "print(len(data_list))\n",
    "file.close()"
   ]
  },
  {
   "cell_type": "code",
   "execution_count": 39,
   "metadata": {},
   "outputs": [
    {
     "data": {
      "text/html": [
       "<div>\n",
       "<style scoped>\n",
       "    .dataframe tbody tr th:only-of-type {\n",
       "        vertical-align: middle;\n",
       "    }\n",
       "\n",
       "    .dataframe tbody tr th {\n",
       "        vertical-align: top;\n",
       "    }\n",
       "\n",
       "    .dataframe thead th {\n",
       "        text-align: right;\n",
       "    }\n",
       "</style>\n",
       "<table border=\"1\" class=\"dataframe\">\n",
       "  <thead>\n",
       "    <tr style=\"text-align: right;\">\n",
       "      <th></th>\n",
       "      <th>username</th>\n",
       "      <th>ip</th>\n",
       "      <th>date</th>\n",
       "    </tr>\n",
       "  </thead>\n",
       "  <tbody>\n",
       "    <tr>\n",
       "      <th>0</th>\n",
       "      <td>oracle</td>\n",
       "      <td>36.22.187.34</td>\n",
       "      <td>2020-02-02 06:27:46</td>\n",
       "    </tr>\n",
       "    <tr>\n",
       "      <th>1</th>\n",
       "      <td>musicbot</td>\n",
       "      <td>128.199.133.128</td>\n",
       "      <td>2020-02-02 06:29:50</td>\n",
       "    </tr>\n",
       "    <tr>\n",
       "      <th>2</th>\n",
       "      <td>testftp</td>\n",
       "      <td>138.68.94.173</td>\n",
       "      <td>2020-02-02 06:31:30</td>\n",
       "    </tr>\n",
       "    <tr>\n",
       "      <th>3</th>\n",
       "      <td>test</td>\n",
       "      <td>51.15.46.184</td>\n",
       "      <td>2020-02-02 06:35:17</td>\n",
       "    </tr>\n",
       "    <tr>\n",
       "      <th>4</th>\n",
       "      <td>hadoop</td>\n",
       "      <td>46.153.109.68</td>\n",
       "      <td>2020-02-02 07:04:24</td>\n",
       "    </tr>\n",
       "  </tbody>\n",
       "</table>\n",
       "</div>"
      ],
      "text/plain": [
       "   username               ip                date\n",
       "0    oracle     36.22.187.34 2020-02-02 06:27:46\n",
       "1  musicbot  128.199.133.128 2020-02-02 06:29:50\n",
       "2   testftp    138.68.94.173 2020-02-02 06:31:30\n",
       "3      test     51.15.46.184 2020-02-02 06:35:17\n",
       "4    hadoop    46.153.109.68 2020-02-02 07:04:24"
      ]
     },
     "execution_count": 39,
     "metadata": {},
     "output_type": "execute_result"
    }
   ],
   "source": [
    "headers_main = ['username','ip','date']\n",
    "dframe = pd.DataFrame(data_list,columns=headers_main)\n",
    "dframe.head()"
   ]
  },
  {
   "cell_type": "code",
   "execution_count": 40,
   "metadata": {},
   "outputs": [
    {
     "name": "stdout",
     "output_type": "stream",
     "text": [
      "{'123456': 27, 'admin': 27, 'oracle': 24, 'test': 30, 'testuser': 12, 'ubuntu': 15}\n"
     ]
    }
   ],
   "source": [
    "common_users = dframe.pivot_table(index=['username'], aggfunc='size')\n",
    "vcommon_users = { key:value for key, value in common_users.items() if value > 10}\n",
    "print(vcommon_users)\n",
    "\n",
    "user_count_list = []\n",
    "for key, value in vcommon_users.items():\n",
    "    row = [key, value]\n",
    "    user_count_list.append(row)"
   ]
  },
  {
   "cell_type": "code",
   "execution_count": 41,
   "metadata": {},
   "outputs": [
    {
     "data": {
      "text/html": [
       "<div>\n",
       "<style scoped>\n",
       "    .dataframe tbody tr th:only-of-type {\n",
       "        vertical-align: middle;\n",
       "    }\n",
       "\n",
       "    .dataframe tbody tr th {\n",
       "        vertical-align: top;\n",
       "    }\n",
       "\n",
       "    .dataframe thead th {\n",
       "        text-align: right;\n",
       "    }\n",
       "</style>\n",
       "<table border=\"1\" class=\"dataframe\">\n",
       "  <thead>\n",
       "    <tr style=\"text-align: right;\">\n",
       "      <th></th>\n",
       "      <th>username</th>\n",
       "      <th>count</th>\n",
       "    </tr>\n",
       "  </thead>\n",
       "  <tbody>\n",
       "    <tr>\n",
       "      <th>0</th>\n",
       "      <td>123456</td>\n",
       "      <td>27</td>\n",
       "    </tr>\n",
       "    <tr>\n",
       "      <th>1</th>\n",
       "      <td>admin</td>\n",
       "      <td>27</td>\n",
       "    </tr>\n",
       "    <tr>\n",
       "      <th>2</th>\n",
       "      <td>oracle</td>\n",
       "      <td>24</td>\n",
       "    </tr>\n",
       "    <tr>\n",
       "      <th>3</th>\n",
       "      <td>test</td>\n",
       "      <td>30</td>\n",
       "    </tr>\n",
       "    <tr>\n",
       "      <th>4</th>\n",
       "      <td>testuser</td>\n",
       "      <td>12</td>\n",
       "    </tr>\n",
       "    <tr>\n",
       "      <th>5</th>\n",
       "      <td>ubuntu</td>\n",
       "      <td>15</td>\n",
       "    </tr>\n",
       "  </tbody>\n",
       "</table>\n",
       "</div>"
      ],
      "text/plain": [
       "   username  count\n",
       "0    123456     27\n",
       "1     admin     27\n",
       "2    oracle     24\n",
       "3      test     30\n",
       "4  testuser     12\n",
       "5    ubuntu     15"
      ]
     },
     "execution_count": 41,
     "metadata": {},
     "output_type": "execute_result"
    }
   ],
   "source": [
    "headers_users = ['username','count']\n",
    "dframe_users = pd.DataFrame(user_count_list,columns=headers_users)\n",
    "dframe_users"
   ]
  },
  {
   "cell_type": "code",
   "execution_count": 43,
   "metadata": {},
   "outputs": [
    {
     "data": {
      "text/plain": [
       "<matplotlib.axes._subplots.AxesSubplot at 0x263b8274320>"
      ]
     },
     "execution_count": 43,
     "metadata": {},
     "output_type": "execute_result"
    },
    {
     "data": {
      "image/png": "[encoded data removed]",
      "text/plain": [
       "<Figure size 432x288 with 1 Axes>"
      ]
     },
     "metadata": {},
     "output_type": "display_data"
    }
   ],
   "source": [
    "#user_plot = plt.bar(dframe_users[\"username\"], dframe_users[\"count\"], align='center')\n",
    "dframe_users.groupby(['username']).median().sort_values(\"count\").plot.bar()"
   ]
  },
  {
   "cell_type": "code",
   "execution_count": 44,
   "metadata": {},
   "outputs": [
    {
     "name": "stdout",
     "output_type": "stream",
     "text": [
      "{'1.212.62.171': 63, '101.231.201.50': 76, '101.255.56.42': 78, '103.25.6.73': 33, '103.79.154.104': 89, '106.12.61.168': 18, '112.78.134.11': 34, '119.29.170.170': 25, '128.199.179.123': 14, '129.226.57.194': 93, '138.75.78.248': 28, '143.176.195.243': 27, '162.243.121.211': 98, '164.132.24.138': 56, '175.211.216.112': 68, '176.41.4.57': 41, '177.23.196.77': 87, '179.52.99.133': 54, '190.128.230.98': 60, '190.171.149.114': 18, '211.197.207.168': 15, '219.138.156.233': 98, '31.211.65.102': 85, '41.74.112.15': 58, '47.74.148.51': 29, '71.190.234.217': 13, '85.135.87.50': 16, '87.120.36.234': 81, '87.97.116.44': 84, '88.147.148.124': 14}\n"
     ]
    }
   ],
   "source": [
    "common_ips = dframe.pivot_table(index=['ip'], aggfunc='size')\n",
    "vcommon_ips = { key:value for key, value in common_ips.items() if value > 10}\n",
    "print(vcommon_ips)\n",
    "\n",
    "ip_count_list = []\n",
    "for key, value in vcommon_ips.items():\n",
    "    row = [key, value]\n",
    "    ip_count_list.append(row)"
   ]
  },
  {
   "cell_type": "code",
   "execution_count": 45,
   "metadata": {},
   "outputs": [
    {
     "data": {
      "text/html": [
       "<div>\n",
       "<style scoped>\n",
       "    .dataframe tbody tr th:only-of-type {\n",
       "        vertical-align: middle;\n",
       "    }\n",
       "\n",
       "    .dataframe tbody tr th {\n",
       "        vertical-align: top;\n",
       "    }\n",
       "\n",
       "    .dataframe thead th {\n",
       "        text-align: right;\n",
       "    }\n",
       "</style>\n",
       "<table border=\"1\" class=\"dataframe\">\n",
       "  <thead>\n",
       "    <tr style=\"text-align: right;\">\n",
       "      <th></th>\n",
       "      <th>ip</th>\n",
       "      <th>count</th>\n",
       "    </tr>\n",
       "  </thead>\n",
       "  <tbody>\n",
       "    <tr>\n",
       "      <th>0</th>\n",
       "      <td>1.212.62.171</td>\n",
       "      <td>63</td>\n",
       "    </tr>\n",
       "    <tr>\n",
       "      <th>1</th>\n",
       "      <td>101.231.201.50</td>\n",
       "      <td>76</td>\n",
       "    </tr>\n",
       "    <tr>\n",
       "      <th>2</th>\n",
       "      <td>101.255.56.42</td>\n",
       "      <td>78</td>\n",
       "    </tr>\n",
       "    <tr>\n",
       "      <th>3</th>\n",
       "      <td>103.25.6.73</td>\n",
       "      <td>33</td>\n",
       "    </tr>\n",
       "    <tr>\n",
       "      <th>4</th>\n",
       "      <td>103.79.154.104</td>\n",
       "      <td>89</td>\n",
       "    </tr>\n",
       "    <tr>\n",
       "      <th>5</th>\n",
       "      <td>106.12.61.168</td>\n",
       "      <td>18</td>\n",
       "    </tr>\n",
       "    <tr>\n",
       "      <th>6</th>\n",
       "      <td>112.78.134.11</td>\n",
       "      <td>34</td>\n",
       "    </tr>\n",
       "    <tr>\n",
       "      <th>7</th>\n",
       "      <td>119.29.170.170</td>\n",
       "      <td>25</td>\n",
       "    </tr>\n",
       "    <tr>\n",
       "      <th>8</th>\n",
       "      <td>128.199.179.123</td>\n",
       "      <td>14</td>\n",
       "    </tr>\n",
       "    <tr>\n",
       "      <th>9</th>\n",
       "      <td>129.226.57.194</td>\n",
       "      <td>93</td>\n",
       "    </tr>\n",
       "    <tr>\n",
       "      <th>10</th>\n",
       "      <td>138.75.78.248</td>\n",
       "      <td>28</td>\n",
       "    </tr>\n",
       "    <tr>\n",
       "      <th>11</th>\n",
       "      <td>143.176.195.243</td>\n",
       "      <td>27</td>\n",
       "    </tr>\n",
       "    <tr>\n",
       "      <th>12</th>\n",
       "      <td>162.243.121.211</td>\n",
       "      <td>98</td>\n",
       "    </tr>\n",
       "    <tr>\n",
       "      <th>13</th>\n",
       "      <td>164.132.24.138</td>\n",
       "      <td>56</td>\n",
       "    </tr>\n",
       "    <tr>\n",
       "      <th>14</th>\n",
       "      <td>175.211.216.112</td>\n",
       "      <td>68</td>\n",
       "    </tr>\n",
       "    <tr>\n",
       "      <th>15</th>\n",
       "      <td>176.41.4.57</td>\n",
       "      <td>41</td>\n",
       "    </tr>\n",
       "    <tr>\n",
       "      <th>16</th>\n",
       "      <td>177.23.196.77</td>\n",
       "      <td>87</td>\n",
       "    </tr>\n",
       "    <tr>\n",
       "      <th>17</th>\n",
       "      <td>179.52.99.133</td>\n",
       "      <td>54</td>\n",
       "    </tr>\n",
       "    <tr>\n",
       "      <th>18</th>\n",
       "      <td>190.128.230.98</td>\n",
       "      <td>60</td>\n",
       "    </tr>\n",
       "    <tr>\n",
       "      <th>19</th>\n",
       "      <td>190.171.149.114</td>\n",
       "      <td>18</td>\n",
       "    </tr>\n",
       "    <tr>\n",
       "      <th>20</th>\n",
       "      <td>211.197.207.168</td>\n",
       "      <td>15</td>\n",
       "    </tr>\n",
       "    <tr>\n",
       "      <th>21</th>\n",
       "      <td>219.138.156.233</td>\n",
       "      <td>98</td>\n",
       "    </tr>\n",
       "    <tr>\n",
       "      <th>22</th>\n",
       "      <td>31.211.65.102</td>\n",
       "      <td>85</td>\n",
       "    </tr>\n",
       "    <tr>\n",
       "      <th>23</th>\n",
       "      <td>41.74.112.15</td>\n",
       "      <td>58</td>\n",
       "    </tr>\n",
       "    <tr>\n",
       "      <th>24</th>\n",
       "      <td>47.74.148.51</td>\n",
       "      <td>29</td>\n",
       "    </tr>\n",
       "    <tr>\n",
       "      <th>25</th>\n",
       "      <td>71.190.234.217</td>\n",
       "      <td>13</td>\n",
       "    </tr>\n",
       "    <tr>\n",
       "      <th>26</th>\n",
       "      <td>85.135.87.50</td>\n",
       "      <td>16</td>\n",
       "    </tr>\n",
       "    <tr>\n",
       "      <th>27</th>\n",
       "      <td>87.120.36.234</td>\n",
       "      <td>81</td>\n",
       "    </tr>\n",
       "    <tr>\n",
       "      <th>28</th>\n",
       "      <td>87.97.116.44</td>\n",
       "      <td>84</td>\n",
       "    </tr>\n",
       "    <tr>\n",
       "      <th>29</th>\n",
       "      <td>88.147.148.124</td>\n",
       "      <td>14</td>\n",
       "    </tr>\n",
       "  </tbody>\n",
       "</table>\n",
       "</div>"
      ],
      "text/plain": [
       "                 ip  count\n",
       "0      1.212.62.171     63\n",
       "1    101.231.201.50     76\n",
       "2     101.255.56.42     78\n",
       "3       103.25.6.73     33\n",
       "4    103.79.154.104     89\n",
       "5     106.12.61.168     18\n",
       "6     112.78.134.11     34\n",
       "7    119.29.170.170     25\n",
       "8   128.199.179.123     14\n",
       "9    129.226.57.194     93\n",
       "10    138.75.78.248     28\n",
       "11  143.176.195.243     27\n",
       "12  162.243.121.211     98\n",
       "13   164.132.24.138     56\n",
       "14  175.211.216.112     68\n",
       "15      176.41.4.57     41\n",
       "16    177.23.196.77     87\n",
       "17    179.52.99.133     54\n",
       "18   190.128.230.98     60\n",
       "19  190.171.149.114     18\n",
       "20  211.197.207.168     15\n",
       "21  219.138.156.233     98\n",
       "22    31.211.65.102     85\n",
       "23     41.74.112.15     58\n",
       "24     47.74.148.51     29\n",
       "25   71.190.234.217     13\n",
       "26     85.135.87.50     16\n",
       "27    87.120.36.234     81\n",
       "28     87.97.116.44     84\n",
       "29   88.147.148.124     14"
      ]
     },
     "execution_count": 45,
     "metadata": {},
     "output_type": "execute_result"
    }
   ],
   "source": [
    "headers_ips = ['ip','count']\n",
    "dframe_ips = pd.DataFrame(ip_count_list,columns=headers_ips)\n",
    "dframe_ips"
   ]
  },
  {
   "cell_type": "code",
   "execution_count": 46,
   "metadata": {},
   "outputs": [
    {
     "data": {
      "text/plain": [
       "<matplotlib.axes._subplots.AxesSubplot at 0x263b396a8d0>"
      ]
     },
     "execution_count": 46,
     "metadata": {},
     "output_type": "execute_result"
    },
    {
     "data": {
      "image/png": "[encoded data removed]",
      "text/plain": [
       "<Figure size 432x288 with 1 Axes>"
      ]
     },
     "metadata": {},
     "output_type": "display_data"
    }
   ],
   "source": [
    "dframe_ips.groupby(['ip']).median().sort_values(\"count\").plot.bar()"
   ]
  },
  {
   "cell_type": "code",
   "execution_count": null,
   "metadata": {},
   "outputs": [],
   "source": []
  }
 ],
 "metadata": {
  "kernelspec": {
   "display_name": "Python 3",
   "language": "python",
   "name": "python3"
  },
  "language_info": {
   "codemirror_mode": {
    "name": "ipython",
    "version": 3
   },
   "file_extension": ".py",
   "mimetype": "text/x-python",
   "name": "python",
   "nbconvert_exporter": "python",
   "pygments_lexer": "ipython3",
   "version": "3.6.5"
  }
 },
 "nbformat": 4,
 "nbformat_minor": 4
}
